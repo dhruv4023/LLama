{
 "cells": [
  {
   "cell_type": "code",
   "execution_count": null,
   "metadata": {},
   "outputs": [],
   "source": [
    "# %pip install llama-index-vector-stores-faiss"
   ]
  },
  {
   "cell_type": "code",
   "execution_count": null,
   "metadata": {},
   "outputs": [],
   "source": [
    "# MODEL_REPO = \"thenlper/gte-small\"\n",
    "TEXT_GENERATION_MODEL_REPO = \"mistralai/Mixtral-8x7B-Instruct-v0.1\"\n",
    "# TEXT_GENERATION_MODEL_REPO = \"HuggingFaceH4/zephyr-7b-alpha\"\n",
    "# MODEL_REPO = \"Writer/camel-5b-hf\"\n",
    "from my_settings import LLMSettings\n",
    "\n",
    "model = LLMSettings(\n",
    "    model_name=TEXT_GENERATION_MODEL_REPO,\n",
    "    context_window=10000,\n",
    "    max_new_tokens=10000,\n",
    "    max_length=10000,\n",
    "    temperature=0.85,\n",
    "    query_wrapper_prompt=\"\"\"\n",
    "    Below is an instruction that describes a task. \n",
    "    You'r helpful AI assisant given the task to help people seeking advise.\n",
    "    Use the following pieces of context to answer the question at the end.\n",
    "    The text provided to you is about indian constitution and legal processes and provide information in a lawful manner\n",
    "    You should prefer information which are more related to asked question.\n",
    "    Make sure to rely on information from text only and not on questions to provide accurate responses.\n",
    "    When you find particular answer in the context useful, make sure to cite it in the your answer.\n",
    "    If you don't know the answer, just say that you don't know, don't try to make up an answer.\n",
    "    Each answer you generate should contain a section numbers you found useful.\n",
    "    You can only use the given to you to answer the question.\n",
    "    Generate concise answers and relevant data related to the asked question.\n",
    "    You must represent the answer in proper format such as make points highlight some major information.\n",
    "    don't attach your created quetions. if you don't get answer from the given text just say i don't know and terminate answering.\n",
    "    if you get answer from the text than write all about the asked quetion and relevant data related to it.\n",
    "    don't use your own knowledge just use the provided text to answer the question.  \n",
    "    also don't provide such example quetions with answer. just give the answer asked by the user in proper manner.\n",
    "    ### Instruction:\\n{query_str}\\n\\n### Response:\n",
    "\"\"\",\n",
    ")\n",
    "\n",
    "model._set_huggingface_embedding(local=True)\n",
    "model._setup_huggingface_llm_inference_api()\n",
    "model._configure_mongodb()"
   ]
  },
  {
   "cell_type": "code",
   "execution_count": null,
   "metadata": {},
   "outputs": [],
   "source": [
    "from llama_index.core import (\n",
    "    SimpleDirectoryReader,\n",
    "    VectorStoreIndex,\n",
    "    StorageContext,\n",
    ")"
   ]
  },
  {
   "cell_type": "code",
   "execution_count": null,
   "metadata": {},
   "outputs": [],
   "source": [
    "docs = SimpleDirectoryReader(input_files=[\"./data/IPC_186045.pdf\"]).load_data()"
   ]
  },
  {
   "cell_type": "code",
   "execution_count": null,
   "metadata": {},
   "outputs": [],
   "source": [
    "import faiss\n",
    "\n",
    "# dimensions of \"BAAI/bge-small-en\"\n",
    "d = 384\n",
    "faiss_index = faiss.IndexFlatL2(d)\n",
    "faiss_index"
   ]
  },
  {
   "cell_type": "code",
   "execution_count": null,
   "metadata": {},
   "outputs": [],
   "source": [
    "from llama_index.vector_stores.faiss import FaissVectorStore\n",
    "vector_store = FaissVectorStore(faiss_index=faiss_index)\n",
    "storage_context = StorageContext.from_defaults(vector_store=vector_store)\n",
    "index = VectorStoreIndex.from_documents(\n",
    "    docs, storage_context=storage_context\n",
    ")"
   ]
  },
  {
   "cell_type": "code",
   "execution_count": null,
   "metadata": {},
   "outputs": [],
   "source": [
    "# save index to disk\n",
    "index.storage_context.persist()"
   ]
  },
  {
   "cell_type": "code",
   "execution_count": null,
   "metadata": {},
   "outputs": [],
   "source": [
    "from llama_index.vector_stores.faiss import FaissVectorStore\n",
    "from llama_index.core import (\n",
    "    load_index_from_storage,\n",
    "    StorageContext,\n",
    ")\n",
    "# load index from disk\n",
    "vector_store = FaissVectorStore.from_persist_dir(\"./storage\")\n",
    "storage_context = StorageContext.from_defaults(\n",
    "    vector_store=vector_store, persist_dir=\"./storage\"\n",
    ")\n",
    "index = load_index_from_storage(storage_context=storage_context)"
   ]
  },
  {
   "cell_type": "code",
   "execution_count": null,
   "metadata": {},
   "outputs": [],
   "source": [
    "# retriever = index.as_retriever(similarity_top_k=3)\n",
    "# nodes = retriever.retrieve(\"flower\")\n",
    "\n",
    "# for node in nodes:\n",
    "#     print(node)"
   ]
  },
  {
   "cell_type": "code",
   "execution_count": null,
   "metadata": {},
   "outputs": [],
   "source": [
    "query_engine = index.as_query_engine(\n",
    "    kwargs={\"early_stopping\": True, \"min_length\": 2000, \"max_tokens\": 5000}\n",
    ")"
   ]
  },
  {
   "cell_type": "code",
   "execution_count": null,
   "metadata": {},
   "outputs": [],
   "source": [
    "from IPython.display import Markdown, display\n",
    "\n",
    "response = query_engine.query(\"tell me about rioting !\")\n",
    "display(Markdown(f\"{response}\"))"
   ]
  }
 ],
 "metadata": {
  "kernelspec": {
   "display_name": ".venv",
   "language": "python",
   "name": "python3"
  },
  "language_info": {
   "codemirror_mode": {
    "name": "ipython",
    "version": 3
   },
   "file_extension": ".py",
   "mimetype": "text/x-python",
   "name": "python",
   "nbconvert_exporter": "python",
   "pygments_lexer": "ipython3",
   "version": "3.9.13"
  }
 },
 "nbformat": 4,
 "nbformat_minor": 2
}
