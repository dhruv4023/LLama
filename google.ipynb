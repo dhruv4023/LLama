{
 "cells": [
  {
   "cell_type": "code",
   "execution_count": null,
   "metadata": {},
   "outputs": [],
   "source": [
    "# !pip install -q llama-index google-generativeai\n",
    "# %pip install llama-index-llms-gemini"
   ]
  },
  {
   "cell_type": "code",
   "execution_count": 1,
   "metadata": {},
   "outputs": [
    {
     "name": "stderr",
     "output_type": "stream",
     "text": [
      "u:\\Files\\LamaIndex\\.venv\\lib\\site-packages\\tqdm\\auto.py:21: TqdmWarning: IProgress not found. Please update jupyter and ipywidgets. See https://ipywidgets.readthedocs.io/en/stable/user_install.html\n",
      "  from .autonotebook import tqdm as notebook_tqdm\n"
     ]
    },
    {
     "data": {
      "text/plain": [
       "CompletionResponse(text='**The Magic Backpack**\\n\\nIn a realm where wonders reside,\\nA backpack with secrets it hides.\\nIts fabric shimmers, a vibrant hue,\\nA portal to realms both old and new.\\n\\nIts zippers gleam like celestial stars,\\nUnveiling treasures beyond the bars.\\nBooks that whisper ancient tales,\\nMaps that guide through enchanted trails.\\n\\nA compass spins with a gentle sway,\\nPointing the way to where dreams may lay.\\nA telescope reveals distant skies,\\nWhere galaxies dance and stars arise.\\n\\nA wand of wonder, a brush of art,\\nTransforming thoughts into works of heart.\\nA notebook captures every whim,\\nA canvas for dreams to paint within.\\n\\nWith every step, it grows in size,\\nA bottomless void that never dies.\\nIt holds the weight of hopes and fears,\\nA sanctuary for laughter and tears.\\n\\nBut beware, its power can be vast,\\nFor magic comes with a price to cast.\\nUse it wisely, with care and grace,\\nLest its secrets lead you to a dangerous place.\\n\\nSo don this backpack, a wondrous guide,\\nAnd let its magic be your constant guide.\\nThrough realms of wonder, it will lead,\\nWhere dreams take flight and secrets are freed.', additional_kwargs={}, raw={'content': {'parts': [{'text': '**The Magic Backpack**\\n\\nIn a realm where wonders reside,\\nA backpack with secrets it hides.\\nIts fabric shimmers, a vibrant hue,\\nA portal to realms both old and new.\\n\\nIts zippers gleam like celestial stars,\\nUnveiling treasures beyond the bars.\\nBooks that whisper ancient tales,\\nMaps that guide through enchanted trails.\\n\\nA compass spins with a gentle sway,\\nPointing the way to where dreams may lay.\\nA telescope reveals distant skies,\\nWhere galaxies dance and stars arise.\\n\\nA wand of wonder, a brush of art,\\nTransforming thoughts into works of heart.\\nA notebook captures every whim,\\nA canvas for dreams to paint within.\\n\\nWith every step, it grows in size,\\nA bottomless void that never dies.\\nIt holds the weight of hopes and fears,\\nA sanctuary for laughter and tears.\\n\\nBut beware, its power can be vast,\\nFor magic comes with a price to cast.\\nUse it wisely, with care and grace,\\nLest its secrets lead you to a dangerous place.\\n\\nSo don this backpack, a wondrous guide,\\nAnd let its magic be your constant guide.\\nThrough realms of wonder, it will lead,\\nWhere dreams take flight and secrets are freed.'}], 'role': 'model'}, 'finish_reason': 1, 'index': 0, 'safety_ratings': [], 'token_count': 0, 'grounding_attributions': [], 'block_reason': 0}, logprobs=None, delta=None)"
      ]
     },
     "execution_count": 1,
     "metadata": {},
     "output_type": "execute_result"
    }
   ],
   "source": [
    "from llama_index.llms.gemini import Gemini\n",
    "\n",
    "llm = Gemini()\n",
    "llm.complete(\"Write a poem about a magic backpack\")"
   ]
  },
  {
   "cell_type": "code",
   "execution_count": null,
   "metadata": {},
   "outputs": [],
   "source": [
    "resp = await llm.astream_complete(\"Llamas are famous for \")\n",
    "async for chunk in resp:\n",
    "    print(chunk.text, end=\"\")"
   ]
  }
 ],
 "metadata": {
  "kernelspec": {
   "display_name": ".venv",
   "language": "python",
   "name": "python3"
  },
  "language_info": {
   "codemirror_mode": {
    "name": "ipython",
    "version": 3
   },
   "file_extension": ".py",
   "mimetype": "text/x-python",
   "name": "python",
   "nbconvert_exporter": "python",
   "pygments_lexer": "ipython3",
   "version": "3.9.13"
  }
 },
 "nbformat": 4,
 "nbformat_minor": 2
}
