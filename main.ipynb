{
 "cells": [
  {
   "cell_type": "code",
   "execution_count": 6,
   "metadata": {},
   "outputs": [],
   "source": [
    "import llama_index\n",
    "from llama_index.llms.huggingface import (\n",
    "    HuggingFaceInferenceAPI,\n",
    "    HuggingFaceLLM,\n",
    ")"
   ]
  },
  {
   "cell_type": "code",
   "execution_count": 12,
   "metadata": {},
   "outputs": [
    {
     "name": "stdout",
     "output_type": "stream",
     "text": [
      "\n",
      "\n",
      "Punishment for robbery in Indian Constitution is mentioned under Section 392 of the Indian Penal Code, 1860. The punishment for robbery is rigorous imprisonment for a term which may extend to ten years, and shall also be liable to fine.\n",
      "\n",
      "However, if the robbery is committed on the highway between sunset and sunrise, the punishment shall be rigorous imprisonment for a term which may extend to fourteen years, and shall also be liable to fine.\n",
      "\n",
      "It is important to note that the punishment for robbery can be enhanced if the offender is armed with any deadly weapon or causes grievous hurt to any person, or if the offender is in the company of another person and commits or attempts to commit robbery. In such cases, the punishment may extend to imprisonment for life, and shall also be liable to fine.\n"
     ]
    }
   ],
   "source": [
    "\n",
    "# model_name = \"mistral-community/Mixtral-8x22B-v0.1\"\n",
    "model_name = \"mistralai/Mixtral-8x7B-Instruct-v0.1\"\n",
    "remotely_run = HuggingFaceInferenceAPI(model_name=model_name)\n",
    "completion_response = remotely_run.complete(\"what is punishment for robbery in indian constitution\")\n",
    "print(completion_response)"
   ]
  }
 ],
 "metadata": {
  "kernelspec": {
   "display_name": ".venv",
   "language": "python",
   "name": "python3"
  },
  "language_info": {
   "codemirror_mode": {
    "name": "ipython",
    "version": 3
   },
   "file_extension": ".py",
   "mimetype": "text/x-python",
   "name": "python",
   "nbconvert_exporter": "python",
   "pygments_lexer": "ipython3",
   "version": "3.9.13"
  }
 },
 "nbformat": 4,
 "nbformat_minor": 2
}
