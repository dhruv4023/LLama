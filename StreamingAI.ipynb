{
 "cells": [
  {
   "cell_type": "code",
   "execution_count": 8,
   "metadata": {},
   "outputs": [],
   "source": [
    "import HFH"
   ]
  },
  {
   "cell_type": "code",
   "execution_count": 9,
   "metadata": {},
   "outputs": [
    {
     "name": "stderr",
     "output_type": "stream",
     "text": [
      "Batches: 100%|██████████| 1/1 [00:00<00:00,  1.69it/s]\n",
      "Batches: 100%|██████████| 1/1 [00:00<00:00,  3.41it/s]\n",
      "Batches: 100%|██████████| 1/1 [00:00<00:00,  2.79it/s]\n",
      "Batches: 100%|██████████| 1/1 [00:00<00:00,  3.45it/s]\n",
      "Batches: 100%|██████████| 1/1 [00:00<00:00,  2.82it/s]\n",
      "Batches: 100%|██████████| 1/1 [00:00<00:00,  2.67it/s]\n",
      "Batches: 100%|██████████| 1/1 [00:00<00:00,  4.03it/s]\n"
     ]
    }
   ],
   "source": [
    "from llama_index.core import VectorStoreIndex, SimpleDirectoryReader\n",
    "\n",
    "documents = SimpleDirectoryReader(\"./data/test/\").load_data()\n",
    "index = VectorStoreIndex.from_documents(documents)"
   ]
  },
  {
   "cell_type": "code",
   "execution_count": 10,
   "metadata": {},
   "outputs": [],
   "source": [
    "base_query_engine = index.as_query_engine(streaming=True, similarity_top_k=1)"
   ]
  },
  {
   "cell_type": "code",
   "execution_count": 18,
   "metadata": {},
   "outputs": [],
   "source": [
    "from llama_index.core import get_response_synthesizer\n",
    "from llama_index.core.query_engine import RetrieverQueryEngine\n",
    "\n",
    "synth = get_response_synthesizer(streaming=True)\n",
    "query_engine = RetrieverQueryEngine(response_synthesizer=synth,retriever=base_query_engine)"
   ]
  },
  {
   "cell_type": "code",
   "execution_count": 19,
   "metadata": {},
   "outputs": [
    {
     "name": "stderr",
     "output_type": "stream",
     "text": [
      "Batches: 100%|██████████| 1/1 [00:00<00:00, 26.76it/s]\n"
     ]
    },
    {
     "data": {
      "text/markdown": [
       "The INDIAN LILY-OF-THE-VALLEY (Ophiopogon im"
      ],
      "text/plain": [
       "<IPython.core.display.Markdown object>"
      ]
     },
     "metadata": {},
     "output_type": "display_data"
    },
    {
     "data": {
      "text/markdown": [
       "termedius) is a delicate wild flower that grows in shady forest banks all over the Himalayas, from May to early September. It also grows in the g"
      ],
      "text/plain": [
       "<IPython.core.display.Markdown object>"
      ]
     },
     "metadata": {},
     "output_type": "display_data"
    },
    {
     "data": {
      "text/markdown": [
       "hats of the Deccan and its range extends to the hilly tracts of Sri Lanka.\n",
       "\n",
       "The INDIAN LILY-OF-THE-VALLEY is about 10-15 cm high. The flowers are white, tinged with pink on the outside. They look like small white bells with heads hanging downwards and grow in"
      ],
      "text/plain": [
       "<IPython.core.display.Markdown object>"
      ]
     },
     "metadata": {},
     "output_type": "display_data"
    },
    {
     "data": {
      "text/markdown": [
       " a spike-like cluster. The stems are leafless. The little bells are scented and their light fragrance carries in the breeze when a lot of them grow together. The leaves are grass-like and of a deep green hue. The fruit of this wild flower consists of half a dozen berry-like bright blue seeds.\n",
       "\n",
       "The actual lily-of-the-valley that grows in Europe is quite different and has broader leaves, but the fragrance is somewhat similar. This is grown in all hill gardens.\n",
       "\n",
       "The tubers of the INDIAN LILY-OF-THE-VALLEY are used as a herbal treatment for dropsy. A very"
      ],
      "text/plain": [
       "<IPython.core.display.Markdown object>"
      ]
     },
     "metadata": {},
     "output_type": "display_data"
    },
    {
     "data": {
      "text/markdown": [
       " close relative of this lily, O. japonicus is used in our gardens for edging. This plant originally comes from Japan and Korea, and the tubers are used as a substitute for ginseng.\n",
       "\n",
       "The INDIAN LILY-OF-THE-VALLEY is a beautiful and delicate wild flower that is found in the Himalayas and other parts of Asia. Its white, bell-shaped flowers and grass-like leaves make it a popular choice for gardens and landscapes. The tubers of the plant are also used in herbal medicine."
      ],
      "text/plain": [
       "<IPython.core.display.Markdown object>"
      ]
     },
     "metadata": {},
     "output_type": "display_data"
    }
   ],
   "source": [
    "streaming_response = query_engine.query(\n",
    "    \"Tell me about flower INDIAN LILY-OF-THE-VALLEY in 1000 of words\",\n",
    ")\n",
    "\n",
    "from IPython.display import Markdown, display\n",
    "for text in streaming_response.response_gen:\n",
    "    display(Markdown(text))"
   ]
  }
 ],
 "metadata": {
  "kernelspec": {
   "display_name": ".venv",
   "language": "python",
   "name": "python3"
  },
  "language_info": {
   "codemirror_mode": {
    "name": "ipython",
    "version": 3
   },
   "file_extension": ".py",
   "mimetype": "text/x-python",
   "name": "python",
   "nbconvert_exporter": "python",
   "pygments_lexer": "ipython3",
   "version": "3.9.13"
  }
 },
 "nbformat": 4,
 "nbformat_minor": 2
}
