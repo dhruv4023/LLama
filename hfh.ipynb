{
 "cells": [
  {
   "cell_type": "markdown",
   "metadata": {},
   "source": [
    "https://docs.llamaindex.ai/en/stable/examples/llm/huggingface/"
   ]
  },
  {
   "cell_type": "code",
   "execution_count": null,
   "metadata": {},
   "outputs": [],
   "source": [
    "# !pip install \"transformers[torch]\" \"huggingface_hub[inference]\"\n",
    "# %pip install llama-index-llms-huggingface"
   ]
  },
  {
   "cell_type": "code",
   "execution_count": null,
   "metadata": {},
   "outputs": [],
   "source": [
    "\n",
    "from llama_index.llms.huggingface import (\n",
    "    HuggingFaceLLM,\n",
    ")\n",
    "\n",
    "# This uses https://huggingface.co/HuggingFaceH4/zephyr-7b-alpha\n",
    "# downloaded (if first invocation) to the local Hugging Face model cache,\n",
    "# and actually runs the model on your local machine's hardware\n",
    "locally_run = HuggingFaceLLM(model_name=\"HuggingFaceH4/zephyr-7b-alpha\")\n",
    "\n",
    "# This will use the same model, but run remotely on Hugging Face's servers,\n",
    "# accessed via the Hugging Face Inference API\n",
    "# Note that using your token will not charge you money,\n",
    "# # the Inference API is free it just has rate limits\n",
    "# remotely_run = HuggingFaceInferenceAPI(\n",
    "#     model_name=\"HuggingFaceH4/zephyr-7b-alpha\", token=HF_TOKEN\n",
    "# )\n",
    "\n",
    "# # Or you can skip providing a token, using Hugging Face Inference API anonymously\n",
    "# remotely_run_anon = HuggingFaceInferenceAPI(\n",
    "#     model_name=\"HuggingFaceH4/zephyr-7b-alpha\"\n",
    "# )\n",
    "\n",
    "# # If you don't provide a model_name to the HuggingFaceInferenceAPI,\n",
    "# # Hugging Face's recommended model gets used (thanks to huggingface_hub)\n",
    "# remotely_run_recommended = HuggingFaceInferenceAPI(token=HF_TOKEN)"
   ]
  }
 ],
 "metadata": {
  "kernelspec": {
   "display_name": ".venv",
   "language": "python",
   "name": "python3"
  },
  "language_info": {
   "codemirror_mode": {
    "name": "ipython",
    "version": 3
   },
   "file_extension": ".py",
   "mimetype": "text/x-python",
   "name": "python",
   "nbconvert_exporter": "python",
   "pygments_lexer": "ipython3",
   "version": "3.9.13"
  }
 },
 "nbformat": 4,
 "nbformat_minor": 2
}
