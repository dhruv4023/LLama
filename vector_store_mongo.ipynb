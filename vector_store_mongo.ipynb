{
 "cells": [
  {
   "cell_type": "code",
   "execution_count": 1,
   "metadata": {},
   "outputs": [],
   "source": [
    "# %pip install llama-index-vector-stores-mongodb"
   ]
  },
  {
   "cell_type": "code",
   "execution_count": 3,
   "metadata": {},
   "outputs": [
    {
     "name": "stdout",
     "output_type": "stream",
     "text": [
      "Token is valid (permission: write).\n",
      "Your token has been saved in your configured git credential helpers (manager).\n",
      "Your token has been saved to C:\\Users\\Dhruv Patel\\.cache\\huggingface\\token\n",
      "Login successful\n",
      "INFO:sentence_transformers.SentenceTransformer:Load pretrained SentenceTransformer: BAAI/bge-small-en\n",
      "Load pretrained SentenceTransformer: BAAI/bge-small-en\n",
      "INFO:sentence_transformers.SentenceTransformer:2 prompts are loaded, with the keys: ['query', 'text']\n",
      "2 prompts are loaded, with the keys: ['query', 'text']\n"
     ]
    }
   ],
   "source": [
    "# MODEL_REPO = \"thenlper/gte-small\"\n",
    "TEXT_GENERATION_MODEL_REPO = \"mistralai/Mixtral-8x7B-Instruct-v0.1\"\n",
    "# TEXT_GENERATION_MODEL_REPO = \"HuggingFaceH4/zephyr-7b-alpha\"\n",
    "# MODEL_REPO = \"Writer/camel-5b-hf\"\n",
    "from my_settings import LLMSettings\n",
    "\n",
    "model = LLMSettings(\n",
    "    model_name=TEXT_GENERATION_MODEL_REPO,\n",
    "    query_wrapper_prompt=\"\"\"\n",
    "    Below is an instruction that describes a task. \n",
    "    Write a response that appropriately completes the request.\\n\\n\n",
    "    ### Instruction:\\n{query_str}\\n\\n### Response:\n",
    "\"\"\",\n",
    ")\n",
    "\n",
    "model._set_huggingface_embedding(local=True)\n",
    "model._setup_huggingface_llm_inference_api()\n",
    "model._configure_mongodb()"
   ]
  },
  {
   "cell_type": "code",
   "execution_count": 4,
   "metadata": {},
   "outputs": [],
   "source": [
    "import pymongo\n",
    "from llama_index.vector_stores.mongodb import MongoDBAtlasVectorSearch\n",
    "from llama_index.core import StorageContext\n",
    "\n",
    "mongodb_client = pymongo.MongoClient(model.MONGO_DB_URI)\n",
    "atlas_vector_search = MongoDBAtlasVectorSearch(\n",
    "    mongodb_client,\n",
    "    db_name = \"llamaindex_db\",\n",
    "    collection_name = \"test\",\n",
    "    index_name = \"vector_index\"\n",
    ")\n",
    "storage_context = StorageContext.from_defaults(vector_store=atlas_vector_search)"
   ]
  },
  {
   "cell_type": "code",
   "execution_count": 11,
   "metadata": {},
   "outputs": [
    {
     "name": "stdout",
     "output_type": "stream",
     "text": [
      "INFO:llama_index.core.indices.loading:Loading all indices.\n",
      "Loading all indices.\n"
     ]
    },
    {
     "ename": "ValueError",
     "evalue": "No index in storage context, check if you specified the right persist_dir.",
     "output_type": "error",
     "traceback": [
      "\u001b[1;31m---------------------------------------------------------------------------\u001b[0m",
      "\u001b[1;31mValueError\u001b[0m                                Traceback (most recent call last)",
      "Cell \u001b[1;32mIn[11], line 9\u001b[0m\n\u001b[0;32m      2\u001b[0m \u001b[38;5;28;01mfrom\u001b[39;00m \u001b[38;5;21;01mllama_index\u001b[39;00m\u001b[38;5;21;01m.\u001b[39;00m\u001b[38;5;21;01mcore\u001b[39;00m \u001b[38;5;28;01mimport\u001b[39;00m VectorStoreIndex,load_index_from_storage\n\u001b[0;32m      4\u001b[0m \u001b[38;5;66;03m# docs = SimpleDirectoryReader(input_files=[\"./data/nimrethanda.pdf\"]).load_data()\u001b[39;00m\n\u001b[0;32m      5\u001b[0m \u001b[38;5;66;03m# print(docs)\u001b[39;00m\n\u001b[0;32m      6\u001b[0m \u001b[38;5;66;03m# vector_store_index = VectorStoreIndex.from_documents(\u001b[39;00m\n\u001b[0;32m      7\u001b[0m \u001b[38;5;66;03m#     documents=docs, storage_context=storage_context, show_progress=True\u001b[39;00m\n\u001b[0;32m      8\u001b[0m \u001b[38;5;66;03m# )\u001b[39;00m\n\u001b[1;32m----> 9\u001b[0m vector_store_index\u001b[38;5;241m=\u001b[39m\u001b[43mload_index_from_storage\u001b[49m\u001b[43m(\u001b[49m\u001b[43mstorage_context\u001b[49m\u001b[38;5;241;43m=\u001b[39;49m\u001b[43mstorage_context\u001b[49m\u001b[43m)\u001b[49m\n",
      "File \u001b[1;32md:\\Files\\LamaIndex\\.venv\\lib\\site-packages\\llama_index\\core\\indices\\loading.py:36\u001b[0m, in \u001b[0;36mload_index_from_storage\u001b[1;34m(storage_context, index_id, **kwargs)\u001b[0m\n\u001b[0;32m     33\u001b[0m indices \u001b[38;5;241m=\u001b[39m load_indices_from_storage(storage_context, index_ids\u001b[38;5;241m=\u001b[39mindex_ids, \u001b[38;5;241m*\u001b[39m\u001b[38;5;241m*\u001b[39mkwargs)\n\u001b[0;32m     35\u001b[0m \u001b[38;5;28;01mif\u001b[39;00m \u001b[38;5;28mlen\u001b[39m(indices) \u001b[38;5;241m==\u001b[39m \u001b[38;5;241m0\u001b[39m:\n\u001b[1;32m---> 36\u001b[0m     \u001b[38;5;28;01mraise\u001b[39;00m \u001b[38;5;167;01mValueError\u001b[39;00m(\n\u001b[0;32m     37\u001b[0m         \u001b[38;5;124m\"\u001b[39m\u001b[38;5;124mNo index in storage context, check if you specified the right persist_dir.\u001b[39m\u001b[38;5;124m\"\u001b[39m\n\u001b[0;32m     38\u001b[0m     )\n\u001b[0;32m     39\u001b[0m \u001b[38;5;28;01melif\u001b[39;00m \u001b[38;5;28mlen\u001b[39m(indices) \u001b[38;5;241m>\u001b[39m \u001b[38;5;241m1\u001b[39m:\n\u001b[0;32m     40\u001b[0m     \u001b[38;5;28;01mraise\u001b[39;00m \u001b[38;5;167;01mValueError\u001b[39;00m(\n\u001b[0;32m     41\u001b[0m         \u001b[38;5;124mf\u001b[39m\u001b[38;5;124m\"\u001b[39m\u001b[38;5;124mExpected to load a single index, but got \u001b[39m\u001b[38;5;132;01m{\u001b[39;00m\u001b[38;5;28mlen\u001b[39m(indices)\u001b[38;5;132;01m}\u001b[39;00m\u001b[38;5;124m instead. \u001b[39m\u001b[38;5;124m\"\u001b[39m\n\u001b[0;32m     42\u001b[0m         \u001b[38;5;124m\"\u001b[39m\u001b[38;5;124mPlease specify index_id.\u001b[39m\u001b[38;5;124m\"\u001b[39m\n\u001b[0;32m     43\u001b[0m     )\n",
      "\u001b[1;31mValueError\u001b[0m: No index in storage context, check if you specified the right persist_dir."
     ]
    }
   ],
   "source": [
    "from llama_index.core import SimpleDirectoryReader\n",
    "from llama_index.core import VectorStoreIndex,load_index_from_storage\n",
    "\n",
    "\n",
    "docs = SimpleDirectoryReader(input_files=[\"./data/nimrethanda.pdf\"]).load_data()\n",
    "print(docs)\n",
    "vector_store_index = VectorStoreIndex.from_documents(\n",
    "    documents=docs, storage_context=storage_context, show_progress=True\n",
    ")\n",
    "# vector_store_index=load_index_from_storage(storage_context=storage_context)"
   ]
  },
  {
   "cell_type": "code",
   "execution_count": null,
   "metadata": {},
   "outputs": [],
   "source": [
    "# retriever = vector_store_index.as_retriever(similarity_top_k=3)\n",
    "# nodes = retriever.retrieve(\"flower\")\n",
    "\n",
    "# for node in nodes:\n",
    "#     print(node)"
   ]
  },
  {
   "cell_type": "code",
   "execution_count": 12,
   "metadata": {},
   "outputs": [
    {
     "ename": "AttributeError",
     "evalue": "'MongoDBAtlasVectorSearch' object has no attribute 'vector_store'",
     "output_type": "error",
     "traceback": [
      "\u001b[1;31m---------------------------------------------------------------------------\u001b[0m",
      "\u001b[1;31mAttributeError\u001b[0m                            Traceback (most recent call last)",
      "Cell \u001b[1;32mIn[12], line 5\u001b[0m\n\u001b[0;32m      2\u001b[0m \u001b[38;5;28;01mfrom\u001b[39;00m \u001b[38;5;21;01mllama_index\u001b[39;00m\u001b[38;5;21;01m.\u001b[39;00m\u001b[38;5;21;01mcore\u001b[39;00m\u001b[38;5;21;01m.\u001b[39;00m\u001b[38;5;21;01mquery_engine\u001b[39;00m \u001b[38;5;28;01mimport\u001b[39;00m RetrieverQueryEngine\n\u001b[0;32m      4\u001b[0m \u001b[38;5;66;03m# Instantiate Atlas Vector Search as a retriever\u001b[39;00m\n\u001b[1;32m----> 5\u001b[0m vector_store_retriever \u001b[38;5;241m=\u001b[39m \u001b[43mVectorIndexRetriever\u001b[49m\u001b[43m(\u001b[49m\u001b[43mindex\u001b[49m\u001b[38;5;241;43m=\u001b[39;49m\u001b[43matlas_vector_search\u001b[49m\u001b[43m,\u001b[49m\u001b[43m \u001b[49m\u001b[43msimilarity_top_k\u001b[49m\u001b[38;5;241;43m=\u001b[39;49m\u001b[38;5;241;43m5\u001b[39;49m\u001b[43m)\u001b[49m\n\u001b[0;32m      7\u001b[0m \u001b[38;5;66;03m# Pass the retriever into the query engine\u001b[39;00m\n\u001b[0;32m      8\u001b[0m query_engine \u001b[38;5;241m=\u001b[39m RetrieverQueryEngine(retriever\u001b[38;5;241m=\u001b[39mvector_store_retriever)\n",
      "File \u001b[1;32md:\\Files\\LamaIndex\\.venv\\lib\\site-packages\\llama_index\\core\\indices\\vector_store\\retrievers\\retriever.py:59\u001b[0m, in \u001b[0;36mVectorIndexRetriever.__init__\u001b[1;34m(self, index, similarity_top_k, vector_store_query_mode, filters, alpha, node_ids, doc_ids, sparse_top_k, callback_manager, object_map, embed_model, verbose, **kwargs)\u001b[0m\n\u001b[0;32m     57\u001b[0m \u001b[38;5;250m\u001b[39m\u001b[38;5;124;03m\"\"\"Initialize params.\"\"\"\u001b[39;00m\n\u001b[0;32m     58\u001b[0m \u001b[38;5;28mself\u001b[39m\u001b[38;5;241m.\u001b[39m_index \u001b[38;5;241m=\u001b[39m index\n\u001b[1;32m---> 59\u001b[0m \u001b[38;5;28mself\u001b[39m\u001b[38;5;241m.\u001b[39m_vector_store \u001b[38;5;241m=\u001b[39m \u001b[38;5;28;43mself\u001b[39;49m\u001b[38;5;241;43m.\u001b[39;49m\u001b[43m_index\u001b[49m\u001b[38;5;241;43m.\u001b[39;49m\u001b[43mvector_store\u001b[49m\n\u001b[0;32m     60\u001b[0m \u001b[38;5;28mself\u001b[39m\u001b[38;5;241m.\u001b[39m_embed_model \u001b[38;5;241m=\u001b[39m embed_model \u001b[38;5;129;01mor\u001b[39;00m \u001b[38;5;28mself\u001b[39m\u001b[38;5;241m.\u001b[39m_index\u001b[38;5;241m.\u001b[39m_embed_model\n\u001b[0;32m     61\u001b[0m \u001b[38;5;28mself\u001b[39m\u001b[38;5;241m.\u001b[39m_docstore \u001b[38;5;241m=\u001b[39m \u001b[38;5;28mself\u001b[39m\u001b[38;5;241m.\u001b[39m_index\u001b[38;5;241m.\u001b[39mdocstore\n",
      "\u001b[1;31mAttributeError\u001b[0m: 'MongoDBAtlasVectorSearch' object has no attribute 'vector_store'"
     ]
    }
   ],
   "source": [
    "from llama_index.core.retrievers import VectorIndexRetriever\n",
    "from llama_index.core.query_engine import RetrieverQueryEngine\n",
    "\n",
    "# Instantiate Atlas Vector Search as a retriever\n",
    "vector_store_retriever = VectorIndexRetriever(index=vector_store_index, similarity_top_k=5)\n",
    "\n",
    "# Pass the retriever into the query engine\n",
    "query_engine = RetrieverQueryEngine(retriever=vector_store_retriever)\n",
    "\n",
    "# Prompt the LLM\n",
    "# response = query_engine.query('write 5 flowers name grows more than 2500m height from provided in context only')\n",
    "response = query_engine.query('tell me about diff names of GENTIAN')\n",
    "\n",
    "print(response)\n",
    "# print(\"\\nSource documents: \")\n",
    "# print(response.source_nodes)"
   ]
  }
 ],
 "metadata": {
  "kernelspec": {
   "display_name": ".venv",
   "language": "python",
   "name": "python3"
  },
  "language_info": {
   "codemirror_mode": {
    "name": "ipython",
    "version": 3
   },
   "file_extension": ".py",
   "mimetype": "text/x-python",
   "name": "python",
   "nbconvert_exporter": "python",
   "pygments_lexer": "ipython3",
   "version": "3.9.13"
  }
 },
 "nbformat": 4,
 "nbformat_minor": 2
}
