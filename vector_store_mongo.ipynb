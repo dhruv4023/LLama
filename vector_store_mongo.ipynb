{
 "cells": [
  {
   "cell_type": "code",
   "execution_count": null,
   "metadata": {},
   "outputs": [],
   "source": [
    "import os\n",
    "from dotenv import load_dotenv\n",
    "\n",
    "MONGO_DB_URI = os.getenv(\"MONGO_DB_URI\")"
   ]
  },
  {
   "cell_type": "code",
   "execution_count": null,
   "metadata": {},
   "outputs": [],
   "source": [
    "# %pip install llama-index-vector-stores-mongodb"
   ]
  },
  {
   "cell_type": "code",
   "execution_count": null,
   "metadata": {},
   "outputs": [],
   "source": [
    "import HFH"
   ]
  },
  {
   "cell_type": "code",
   "execution_count": null,
   "metadata": {},
   "outputs": [],
   "source": [
    "import pymongo\n",
    "from llama_index.vector_stores.mongodb import MongoDBAtlasVectorSearch\n",
    "from llama_index.core import StorageContext\n",
    "\n",
    "mongodb_client = pymongo.MongoClient(MONGO_DB_URI)\n",
    "atlas_vector_search = MongoDBAtlasVectorSearch(\n",
    "    mongodb_client,\n",
    "    db_name = \"llamaindex_db\",\n",
    "    collection_name = \"test\",\n",
    "    index_name = \"vector_index\"\n",
    ")\n",
    "storage_context = StorageContext.from_defaults(vector_store=atlas_vector_search)"
   ]
  },
  {
   "cell_type": "code",
   "execution_count": null,
   "metadata": {},
   "outputs": [],
   "source": [
    "####  Create embedding and store into database\n",
    "\n",
    "# from llama_index.core import SimpleDirectoryReader\n",
    "# from llama_index.core import VectorStoreIndex,load_index_from_storage\n",
    "\n",
    "\n",
    "# docs = SimpleDirectoryReader(\"./data/test/\").load_data()\n",
    "# print(docs)\n",
    "# vector_store_index = VectorStoreIndex.from_documents(\n",
    "#     documents=docs, storage_context=storage_context, show_progress=True\n",
    "# )"
   ]
  },
  {
   "cell_type": "code",
   "execution_count": null,
   "metadata": {},
   "outputs": [],
   "source": [
    "#### Load embedding from database and create query retriver\n",
    "\n",
    "from llama_index.core import VectorStoreIndex\n",
    "index = VectorStoreIndex.from_vector_store(atlas_vector_search)"
   ]
  },
  {
   "cell_type": "code",
   "execution_count": null,
   "metadata": {},
   "outputs": [],
   "source": [
    "retriever = index.as_retriever(similarity_top_k=3)\n",
    "nodes = retriever.retrieve(\"what is iris?\")\n",
    "\n",
    "for node in nodes:\n",
    "    print(node)"
   ]
  },
  {
   "cell_type": "code",
   "execution_count": null,
   "metadata": {},
   "outputs": [],
   "source": [
    "from llama_index.core.retrievers import VectorIndexRetriever\n",
    "from llama_index.core.query_engine import RetrieverQueryEngine\n",
    "from llama_index.core import PromptTemplate\n",
    "\n",
    "# Instantiate Atlas Vector Search as a retriever\n",
    "vector_store_retriever = VectorIndexRetriever(index=index, similarity_top_k=5)\n",
    "\n",
    "query_engine = index.as_query_engine(\n",
    "    text_qa_template= PromptTemplate(\"\"\"\n",
    "        Below is an instruction that describes a task.     \n",
    "        Write a response that appropriately completes the request.\\n\\n    \n",
    "        ### Instruction:\\n{query_str}\\n\\n### Response:\"\"\")\n",
    ")"
   ]
  },
  {
   "cell_type": "code",
   "execution_count": null,
   "metadata": {},
   "outputs": [],
   "source": [
    "query_engine.query(\"which flowers are found below 2200m height\")\n"
   ]
  },
  {
   "cell_type": "code",
   "execution_count": null,
   "metadata": {},
   "outputs": [],
   "source": [
    "# print(\"\\nSource documents: \")\n",
    "# print(response.source_nodes)"
   ]
  }
 ],
 "metadata": {
  "kernelspec": {
   "display_name": ".venv",
   "language": "python",
   "name": "python3"
  },
  "language_info": {
   "codemirror_mode": {
    "name": "ipython",
    "version": 3
   },
   "file_extension": ".py",
   "mimetype": "text/x-python",
   "name": "python",
   "nbconvert_exporter": "python",
   "pygments_lexer": "ipython3",
   "version": "3.9.13"
  }
 },
 "nbformat": 4,
 "nbformat_minor": 2
}
