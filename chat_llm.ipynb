{
 "cells": [
  {
   "cell_type": "markdown",
   "metadata": {},
   "source": [
    "https://docs.llamaindex.ai/en/stable/examples/embeddings/custom_embeddings/ "
   ]
  },
  {
   "cell_type": "code",
   "execution_count": 3,
   "metadata": {},
   "outputs": [
    {
     "name": "stdout",
     "output_type": "stream",
     "text": [
      "Token is valid (permission: write).\n",
      "Your token has been saved in your configured git credential helpers (manager).\n",
      "Your token has been saved to C:\\Users\\Dhruv Patel\\.cache\\huggingface\\token\n",
      "Login successful\n"
     ]
    }
   ],
   "source": [
    "# MODEL_REPO = \"thenlper/gte-small\"\n",
    "MODEL_REPO = \"mistralai/Mixtral-8x7B-Instruct-v0.1\"\n",
    "# MODEL_REPO = \"HuggingFaceH4/zephyr-7b-alpha\"\n",
    "# MODEL_REPO = \"Writer/camel-5b-hf\"\n",
    "\n",
    "from my_settings import LLMSettings\n",
    "model=LLMSettings(model_name=MODEL_REPO,query_wrapper_prompt=\"\"\"\n",
    "    Below is an instruction that describes a task. \n",
    "    Write a response that appropriately completes the request.\\n\\n\n",
    "    ### Instruction:\\n{query_str}\\n\\n### Response:\n",
    "\"\"\")\n",
    "model._set_huggingface_embedding()\n",
    "model._setup_huggingface_llm_inference_api()"
   ]
  },
  {
   "cell_type": "code",
   "execution_count": 4,
   "metadata": {},
   "outputs": [],
   "source": [
    "from llama_index.core import VectorStoreIndex, SimpleDirectoryReader\n",
    "\n",
    "documents = SimpleDirectoryReader('data').load_data()"
   ]
  },
  {
   "cell_type": "code",
   "execution_count": 5,
   "metadata": {},
   "outputs": [
    {
     "name": "stderr",
     "output_type": "stream",
     "text": [
      "Parsing nodes: 100%|██████████| 66/66 [00:00<00:00, 1079.30it/s]\n",
      "Generating embeddings: 100%|██████████| 70/70 [00:35<00:00,  1.98it/s]\n"
     ]
    }
   ],
   "source": [
    "# Create an index from the documents\n",
    "index = VectorStoreIndex.from_documents(documents,show_progress=True)"
   ]
  },
  {
   "cell_type": "code",
   "execution_count": 8,
   "metadata": {},
   "outputs": [
    {
     "name": "stdout",
     "output_type": "stream",
     "text": [
      "The provided context does not contain information about punishments for robbery.\n"
     ]
    }
   ],
   "source": [
    "# Create a query engine from the index\n",
    "\n",
    "query_engine = index.as_query_engine()\n",
    "# query_engine = index.as_query_engine(streaming=True) \n",
    "\n",
    "# Query the engine\n",
    "response = query_engine.query(\"What punishsment for robbery ?\")\n",
    "# response = query_engine.query(\"give some mountains names ?\")\n",
    "print(response)"
   ]
  }
 ],
 "metadata": {
  "kernelspec": {
   "display_name": ".venv",
   "language": "python",
   "name": "python3"
  },
  "language_info": {
   "codemirror_mode": {
    "name": "ipython",
    "version": 3
   },
   "file_extension": ".py",
   "mimetype": "text/x-python",
   "name": "python",
   "nbconvert_exporter": "python",
   "pygments_lexer": "ipython3",
   "version": "3.9.13"
  }
 },
 "nbformat": 4,
 "nbformat_minor": 2
}
