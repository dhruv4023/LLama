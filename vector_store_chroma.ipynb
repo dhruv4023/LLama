{
 "cells": [
  {
   "cell_type": "code",
   "execution_count": null,
   "metadata": {},
   "outputs": [],
   "source": [
    "# %pip install llama-index-vector-stores-chroma\n",
    "# %pip install llama-index-embeddings-huggingface"
   ]
  },
  {
   "cell_type": "code",
   "execution_count": null,
   "metadata": {},
   "outputs": [],
   "source": [
    "!pip install llama-index chromadb --quiet\n",
    "!pip install chromadb\n",
    "!pip install sentence-transformers\n",
    "!pip install pydantic==1.10.11"
   ]
  },
  {
   "cell_type": "code",
   "execution_count": null,
   "metadata": {},
   "outputs": [],
   "source": [
    "# MODEL_REPO = \"thenlper/gte-small\"\n",
    "TEXT_GENERATION_MODEL_REPO = \"mistralai/Mixtral-8x7B-Instruct-v0.1\"\n",
    "# TEXT_GENERATION_MODEL_REPO = \"HuggingFaceH4/zephyr-7b-alpha\"\n",
    "# MODEL_REPO = \"Writer/camel-5b-hf\"\n",
    "from my_settings import LLMSettings\n",
    "\n",
    "model = LLMSettings(\n",
    "    model_name=TEXT_GENERATION_MODEL_REPO,\n",
    "    context_window=10000,\n",
    "    max_new_tokens=10000,\n",
    "    query_wrapper_prompt=\"\"\"\n",
    "    Below is an instruction that describes a task. \n",
    "    Write a response that appropriately completes the request.\\n\\n\n",
    "    ### Instruction:\\n{query_str}\\n\\n### Response:\n",
    "\"\"\",\n",
    ")\n",
    "\n",
    "model._set_huggingface_embedding(local=True)\n",
    "model._setup_huggingface_llm_inference_api()\n",
    "model._configure_mongodb()"
   ]
  },
  {
   "cell_type": "code",
   "execution_count": null,
   "metadata": {},
   "outputs": [],
   "source": [
    "# import\n",
    "from llama_index.core import VectorStoreIndex, SimpleDirectoryReader\n",
    "from llama_index.vector_stores.chroma import ChromaVectorStore\n",
    "from llama_index.core import StorageContext\n",
    "from IPython.display import Markdown, display\n",
    "import chromadb"
   ]
  },
  {
   "cell_type": "code",
   "execution_count": null,
   "metadata": {},
   "outputs": [],
   "source": [
    "# create client and a new collection\n",
    "chroma_client = chromadb.EphemeralClient()\n",
    "chroma_collection = chroma_client.create_collection(\"quickstart\")\n",
    "\n",
    "# load documents\n",
    "documents = SimpleDirectoryReader(input_files=[\"./data/nimrethanda.pdf\"]).load_data()\n",
    "\n",
    "# set up ChromaVectorStore and load in data\n",
    "vector_store = ChromaVectorStore(chroma_collection=chroma_collection)\n",
    "storage_context = StorageContext.from_defaults(vector_store=vector_store)\n",
    "index = VectorStoreIndex.from_documents(\n",
    "    documents, storage_context=storage_context\n",
    ")\n",
    "\n",
    "# Query Data\n"
   ]
  },
  {
   "cell_type": "code",
   "execution_count": null,
   "metadata": {},
   "outputs": [],
   "source": [
    "query_engine = index.as_query_engine()\n",
    "response = query_engine.query(\"What is iris flower?\")\n",
    "display(Markdown(f\"{response}\"))"
   ]
  }
 ],
 "metadata": {
  "kernelspec": {
   "display_name": ".venv",
   "language": "python",
   "name": "python3"
  },
  "language_info": {
   "codemirror_mode": {
    "name": "ipython",
    "version": 3
   },
   "file_extension": ".py",
   "mimetype": "text/x-python",
   "name": "python",
   "nbconvert_exporter": "python",
   "pygments_lexer": "ipython3",
   "version": "3.9.13"
  }
 },
 "nbformat": 4,
 "nbformat_minor": 2
}
