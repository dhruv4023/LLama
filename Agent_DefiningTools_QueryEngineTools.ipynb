{
 "cells": [
  {
   "cell_type": "code",
   "execution_count": 2,
   "metadata": {},
   "outputs": [
    {
     "name": "stdout",
     "output_type": "stream",
     "text": [
      "DEVICE: GPU\n"
     ]
    },
    {
     "name": "stderr",
     "output_type": "stream",
     "text": [
      "u:\\Files\\LamaIndex\\.venv\\lib\\site-packages\\tqdm\\auto.py:21: TqdmWarning: IProgress not found. Please update jupyter and ipywidgets. See https://ipywidgets.readthedocs.io/en/stable/user_install.html\n",
      "  from .autonotebook import tqdm as notebook_tqdm\n"
     ]
    },
    {
     "name": "stdout",
     "output_type": "stream",
     "text": [
      "INFO:sentence_transformers.SentenceTransformer:Load pretrained SentenceTransformer: BAAI/bge-small-en\n",
      "Load pretrained SentenceTransformer: BAAI/bge-small-en\n",
      "INFO:sentence_transformers.SentenceTransformer:2 prompts are loaded, with the keys: ['query', 'text']\n",
      "2 prompts are loaded, with the keys: ['query', 'text']\n"
     ]
    }
   ],
   "source": [
    "import HFH"
   ]
  },
  {
   "cell_type": "markdown",
   "metadata": {},
   "source": [
    "##### Data Source\n",
    "- 'https://raw.githubusercontent.com/run-llama/llama_index/main/docs/docs/examples/data/10k/uber_2021.pdf'\n",
    "- 'https://raw.githubusercontent.com/run-llama/llama_index/main/docs/docs/examples/data/10k/lyft_2021.pdf'"
   ]
  },
  {
   "cell_type": "code",
   "execution_count": 3,
   "metadata": {},
   "outputs": [
    {
     "name": "stderr",
     "output_type": "stream",
     "text": [
      "Batches: 100%|██████████| 1/1 [00:00<00:00,  1.01it/s]\n",
      "Batches: 100%|██████████| 1/1 [00:00<00:00,  2.84it/s]\n",
      "Batches: 100%|██████████| 1/1 [00:00<00:00,  2.89it/s]\n",
      "Batches: 100%|██████████| 1/1 [00:00<00:00,  2.91it/s]\n",
      "Batches: 100%|██████████| 1/1 [00:00<00:00,  2.90it/s]\n",
      "Batches: 100%|██████████| 1/1 [00:00<00:00,  2.89it/s]\n",
      "Batches: 100%|██████████| 1/1 [00:00<00:00,  2.91it/s]\n",
      "Batches: 100%|██████████| 1/1 [00:00<00:00,  2.90it/s]\n",
      "Batches: 100%|██████████| 1/1 [00:00<00:00,  2.92it/s]\n",
      "Batches: 100%|██████████| 1/1 [00:00<00:00,  2.91it/s]\n",
      "Batches: 100%|██████████| 1/1 [00:00<00:00,  2.90it/s]\n",
      "Batches: 100%|██████████| 1/1 [00:00<00:00,  2.92it/s]\n",
      "Batches: 100%|██████████| 1/1 [00:00<00:00,  2.91it/s]\n",
      "Batches: 100%|██████████| 1/1 [00:00<00:00,  2.91it/s]\n",
      "Batches: 100%|██████████| 1/1 [00:00<00:00,  2.88it/s]\n",
      "Batches: 100%|██████████| 1/1 [00:00<00:00,  2.90it/s]\n",
      "Batches: 100%|██████████| 1/1 [00:00<00:00,  2.92it/s]\n",
      "Batches: 100%|██████████| 1/1 [00:00<00:00,  2.92it/s]\n",
      "Batches: 100%|██████████| 1/1 [00:00<00:00,  2.91it/s]\n",
      "Batches: 100%|██████████| 1/1 [00:00<00:00,  2.87it/s]\n",
      "Batches: 100%|██████████| 1/1 [00:00<00:00,  2.91it/s]\n",
      "Batches: 100%|██████████| 1/1 [00:00<00:00,  2.91it/s]\n",
      "Batches: 100%|██████████| 1/1 [00:00<00:00,  2.89it/s]\n",
      "Batches: 100%|██████████| 1/1 [00:00<00:00,  2.92it/s]\n",
      "Batches: 100%|██████████| 1/1 [00:00<00:00,  2.91it/s]\n",
      "Batches: 100%|██████████| 1/1 [00:00<00:00,  2.91it/s]\n",
      "Batches: 100%|██████████| 1/1 [00:00<00:00,  2.92it/s]\n",
      "Batches: 100%|██████████| 1/1 [00:00<00:00,  2.90it/s]\n",
      "Batches: 100%|██████████| 1/1 [00:00<00:00,  3.02it/s]\n",
      "Batches: 100%|██████████| 1/1 [00:00<00:00,  2.87it/s]\n",
      "Batches: 100%|██████████| 1/1 [00:00<00:00,  2.91it/s]\n",
      "Batches: 100%|██████████| 1/1 [00:00<00:00,  2.90it/s]\n",
      "Batches: 100%|██████████| 1/1 [00:00<00:00,  3.03it/s]\n",
      "Batches: 100%|██████████| 1/1 [00:00<00:00,  2.88it/s]\n",
      "Batches: 100%|██████████| 1/1 [00:00<00:00,  4.95it/s]\n",
      "Batches: 100%|██████████| 1/1 [00:00<00:00,  1.82it/s]\n",
      "Batches: 100%|██████████| 1/1 [00:00<00:00,  2.82it/s]\n",
      "Batches: 100%|██████████| 1/1 [00:00<00:00,  2.98it/s]\n",
      "Batches: 100%|██████████| 1/1 [00:00<00:00,  2.90it/s]\n",
      "Batches: 100%|██████████| 1/1 [00:00<00:00,  2.96it/s]\n",
      "Batches: 100%|██████████| 1/1 [00:00<00:00,  2.91it/s]\n",
      "Batches: 100%|██████████| 1/1 [00:00<00:00,  2.94it/s]\n",
      "Batches: 100%|██████████| 1/1 [00:00<00:00,  2.87it/s]\n",
      "Batches: 100%|██████████| 1/1 [00:00<00:00,  2.90it/s]\n",
      "Batches: 100%|██████████| 1/1 [00:00<00:00,  2.89it/s]\n",
      "Batches: 100%|██████████| 1/1 [00:00<00:00,  3.04it/s]\n",
      "Batches: 100%|██████████| 1/1 [00:00<00:00,  2.85it/s]\n",
      "Batches: 100%|██████████| 1/1 [00:00<00:00,  2.91it/s]\n",
      "Batches: 100%|██████████| 1/1 [00:00<00:00,  2.91it/s]\n",
      "Batches: 100%|██████████| 1/1 [00:00<00:00,  2.92it/s]\n",
      "Batches: 100%|██████████| 1/1 [00:00<00:00,  2.80it/s]\n",
      "Batches: 100%|██████████| 1/1 [00:00<00:00,  2.91it/s]\n",
      "Batches: 100%|██████████| 1/1 [00:00<00:00,  2.84it/s]\n",
      "Batches: 100%|██████████| 1/1 [00:00<00:00,  2.97it/s]\n",
      "Batches: 100%|██████████| 1/1 [00:00<00:00,  2.91it/s]\n",
      "Batches: 100%|██████████| 1/1 [00:00<00:00,  2.91it/s]\n",
      "Batches: 100%|██████████| 1/1 [00:00<00:00,  2.80it/s]\n",
      "Batches: 100%|██████████| 1/1 [00:00<00:00,  3.03it/s]\n",
      "Batches: 100%|██████████| 1/1 [00:00<00:00,  2.90it/s]\n",
      "Batches: 100%|██████████| 1/1 [00:00<00:00,  2.98it/s]\n",
      "Batches: 100%|██████████| 1/1 [00:00<00:00,  2.89it/s]\n",
      "Batches: 100%|██████████| 1/1 [00:00<00:00,  2.87it/s]\n",
      "Batches: 100%|██████████| 1/1 [00:00<00:00,  2.91it/s]\n",
      "Batches: 100%|██████████| 1/1 [00:00<00:00,  2.92it/s]\n",
      "Batches: 100%|██████████| 1/1 [00:00<00:00,  2.80it/s]\n",
      "Batches: 100%|██████████| 1/1 [00:00<00:00,  2.90it/s]\n",
      "Batches: 100%|██████████| 1/1 [00:00<00:00,  2.84it/s]\n",
      "Batches: 100%|██████████| 1/1 [00:00<00:00,  2.91it/s]\n",
      "Batches: 100%|██████████| 1/1 [00:00<00:00,  2.88it/s]\n",
      "Batches: 100%|██████████| 1/1 [00:00<00:00,  2.91it/s]\n",
      "Batches: 100%|██████████| 1/1 [00:00<00:00,  2.92it/s]\n",
      "Batches: 100%|██████████| 1/1 [00:00<00:00,  2.91it/s]\n",
      "Batches: 100%|██████████| 1/1 [00:00<00:00,  2.90it/s]\n",
      "Batches: 100%|██████████| 1/1 [00:00<00:00,  2.91it/s]\n",
      "Batches: 100%|██████████| 1/1 [00:00<00:00,  2.80it/s]\n",
      "Batches: 100%|██████████| 1/1 [00:00<00:00,  3.02it/s]\n"
     ]
    }
   ],
   "source": [
    "from llama_index.core import VectorStoreIndex, SimpleDirectoryReader\n",
    "\n",
    "\n",
    "def create_index(file_path):\n",
    "    documents = SimpleDirectoryReader(input_files=[file_path]).load_data()\n",
    "    index = VectorStoreIndex.from_documents(documents)\n",
    "    return index\n",
    "\n",
    "\n",
    "lyft_index = create_index(\"./data/10k/lyft_2021.pdf\")\n",
    "uber_index = create_index(\"./data/10k/uber_2021.pdf\")"
   ]
  },
  {
   "cell_type": "code",
   "execution_count": 4,
   "metadata": {},
   "outputs": [],
   "source": [
    "from llama_index.core.agent import ReActAgent,AgentRunner\n",
    "from llama_index.core.tools import QueryEngineTool, ToolMetadata\n",
    "\n",
    "# NOTE: lyft_index and uber_index are both SimpleVectorIndex instances\n",
    "lyft_engine = lyft_index.as_query_engine(similarity_top_k=3)\n",
    "uber_engine = uber_index.as_query_engine(similarity_top_k=3)\n",
    "\n",
    "query_engine_tools = [\n",
    "    QueryEngineTool(\n",
    "        query_engine=lyft_engine,\n",
    "        metadata=ToolMetadata(\n",
    "            name=\"lyft_10k\",\n",
    "            description=\"Provides information about Lyft financials for year 2021. \"\n",
    "            \"Use a detailed plain text question as input to the tool.\",\n",
    "        ),\n",
    "    ),\n",
    "    QueryEngineTool(\n",
    "        query_engine=uber_engine,\n",
    "        metadata=ToolMetadata(\n",
    "            name=\"uber_10k\",\n",
    "            description=\"Provides information about Uber financials for year 2021. \"\n",
    "            \"Use a detailed plain text question as input to the tool.\",\n",
    "        ),\n",
    "    ),\n",
    "]\n",
    "\n",
    "# initialize agent\n",
    "# agent = ReActAgent.from_tools(query_engine_tools, verbose=True)\n",
    "agent = AgentRunner.from_llm(query_engine_tools, verbose=True)"
   ]
  },
  {
   "cell_type": "code",
   "execution_count": 6,
   "metadata": {},
   "outputs": [
    {
     "name": "stdout",
     "output_type": "stream",
     "text": [
      "\u001b[1;3;38;5;200mThought: The current language of the user is: en. I need to use a tool to help me answer the question.\n",
      "Action: lyft_10k\n",
      "Action Input: {'input': 'What is lyft ?'}\n",
      "\u001b[0m"
     ]
    },
    {
     "name": "stderr",
     "output_type": "stream",
     "text": [
      "Batches: 100%|██████████| 1/1 [00:00<00:00, 22.09it/s]\n"
     ]
    },
    {
     "name": "stdout",
     "output_type": "stream",
     "text": [
      "\u001b[1;3;34mObservation: Lyft is a company that operates multimodal transportation networks in the United States and Canada that offer access to various transportation options through the company's platform and mobile-based applications.\n",
      "\u001b[0m\u001b[1;3;38;5;200mThought: I can answer without using any more tools. I'll use the user's language to answer\n",
      "Answer: Lyft is a company that operates multimodal transportation networks in the United States and Canada that offer access to various transportation options through the company's platform and mobile-based applications.\n",
      "\u001b[0m"
     ]
    },
    {
     "data": {
      "text/markdown": [
       "Lyft is a company that operates multimodal transportation networks in the United States and Canada that offer access to various transportation options through the company's platform and mobile-based applications."
      ],
      "text/plain": [
       "<IPython.core.display.Markdown object>"
      ]
     },
     "metadata": {},
     "output_type": "display_data"
    }
   ],
   "source": [
    "response = agent.query(\"what is lyft ?\")\n",
    "from IPython.display import Markdown, display\n",
    "\n",
    "display(Markdown(f\"{response}\"))"
   ]
  },
  {
   "cell_type": "code",
   "execution_count": 7,
   "metadata": {},
   "outputs": [
    {
     "name": "stdout",
     "output_type": "stream",
     "text": [
      "\u001b[1;3;38;5;200mThought: The current language of the user is: english. I need to use a tool to help me answer the question.\n",
      "Action: uber_10k\n",
      "Action Input: {'input': 'What is uber?'}\n",
      "\u001b[0m"
     ]
    },
    {
     "name": "stderr",
     "output_type": "stream",
     "text": [
      "Batches: 100%|██████████| 1/1 [00:00<00:00, 27.52it/s]\n"
     ]
    },
    {
     "name": "stdout",
     "output_type": "stream",
     "text": [
      "\u001b[1;3;34mObservation: Uber is a technology platform that uses a massive network, leading technology, operational excellence, and product expertise to power movement from point A to point B.\n",
      "\u001b[0m\u001b[1;3;38;5;200mThought: I can answer without using any more tools. I'll use the user's language to answer\n",
      "Answer: Uber is a technology platform that uses a massive network, leading technology, operational excellence, and product expertise to power movement from point A to point B.\n",
      "\u001b[0m"
     ]
    },
    {
     "data": {
      "text/markdown": [
       "Uber is a technology platform that uses a massive network, leading technology, operational excellence, and product expertise to power movement from point A to point B."
      ],
      "text/plain": [
       "<IPython.core.display.Markdown object>"
      ]
     },
     "metadata": {},
     "output_type": "display_data"
    }
   ],
   "source": [
    "response = agent.query(\"what is uber ?\")\n",
    "from IPython.display import Markdown, display\n",
    "\n",
    "display(Markdown(f\"{response}\"))"
   ]
  }
 ],
 "metadata": {
  "kernelspec": {
   "display_name": ".venv",
   "language": "python",
   "name": "python3"
  },
  "language_info": {
   "codemirror_mode": {
    "name": "ipython",
    "version": 3
   },
   "file_extension": ".py",
   "mimetype": "text/x-python",
   "name": "python",
   "nbconvert_exporter": "python",
   "pygments_lexer": "ipython3",
   "version": "3.9.13"
  }
 },
 "nbformat": 4,
 "nbformat_minor": 2
}
